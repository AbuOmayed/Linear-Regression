{
 "cells": [
  {
   "cell_type": "code",
   "execution_count": 33,
   "id": "0a84b169-7ecf-40de-8d68-40a452beb3a0",
   "metadata": {},
   "outputs": [],
   "source": [
    "#necessary package \n",
    "import pandas as pd\n",
    "import matplotlib.pyplot as plt\n",
    "import seaborn as sns\n",
    "import numpy as np "
   ]
  },
  {
   "cell_type": "code",
   "execution_count": 8,
   "id": "c9025d7e-5436-4557-8a83-25ae1b012324",
   "metadata": {},
   "outputs": [],
   "source": [
    "#import dataset"
   ]
  },
  {
   "cell_type": "code",
   "execution_count": 9,
   "id": "4a831ff7-713b-445b-bd75-1d6224cbed50",
   "metadata": {},
   "outputs": [],
   "source": [
    "try:\n",
    "    # Attempt to read the CSV file with 'utf-8' encoding\n",
    "    df = pd.read_csv(\"/home/omayed/ML/dataset/my2024-fuel-consumption-ratings.csv\", encoding='utf-8')\n",
    "except UnicodeDecodeError:\n",
    "    # If the 'utf-8' decode fails, try decoding with 'latin-1'\n",
    "    df = pd.read_csv(\"/home/omayed/ML/dataset/my2024-fuel-consumption-ratings.csv\", encoding='latin-1')"
   ]
  },
  {
   "cell_type": "code",
   "execution_count": 10,
   "id": "eecff73a-326e-4f01-9b03-32ff84dcfc0a",
   "metadata": {},
   "outputs": [
    {
     "data": {
      "text/html": [
       "<div>\n",
       "<style scoped>\n",
       "    .dataframe tbody tr th:only-of-type {\n",
       "        vertical-align: middle;\n",
       "    }\n",
       "\n",
       "    .dataframe tbody tr th {\n",
       "        vertical-align: top;\n",
       "    }\n",
       "\n",
       "    .dataframe thead th {\n",
       "        text-align: right;\n",
       "    }\n",
       "</style>\n",
       "<table border=\"1\" class=\"dataframe\">\n",
       "  <thead>\n",
       "    <tr style=\"text-align: right;\">\n",
       "      <th></th>\n",
       "      <th>Model year</th>\n",
       "      <th>Make</th>\n",
       "      <th>Model</th>\n",
       "      <th>Vehicle class</th>\n",
       "      <th>Engine size (L)</th>\n",
       "      <th>Cylinders</th>\n",
       "      <th>Transmission</th>\n",
       "      <th>Fuel type</th>\n",
       "      <th>City (L/100 km)</th>\n",
       "      <th>Highway (L/100 km)</th>\n",
       "      <th>Combined (L/100 km)</th>\n",
       "      <th>Combined (mpg)</th>\n",
       "      <th>CO2 emissions (g/km)</th>\n",
       "      <th>CO2 rating</th>\n",
       "      <th>Smog rating</th>\n",
       "    </tr>\n",
       "  </thead>\n",
       "  <tbody>\n",
       "    <tr>\n",
       "      <th>0</th>\n",
       "      <td>2024</td>\n",
       "      <td>Acura</td>\n",
       "      <td>Integra A-SPEC</td>\n",
       "      <td>Full-size</td>\n",
       "      <td>1.5</td>\n",
       "      <td>4</td>\n",
       "      <td>AV7</td>\n",
       "      <td>Z</td>\n",
       "      <td>8.1</td>\n",
       "      <td>6.5</td>\n",
       "      <td>7.4</td>\n",
       "      <td>38</td>\n",
       "      <td>172</td>\n",
       "      <td>6</td>\n",
       "      <td>7</td>\n",
       "    </tr>\n",
       "    <tr>\n",
       "      <th>1</th>\n",
       "      <td>2024</td>\n",
       "      <td>Acura</td>\n",
       "      <td>Integra A-SPEC</td>\n",
       "      <td>Full-size</td>\n",
       "      <td>1.5</td>\n",
       "      <td>4</td>\n",
       "      <td>M6</td>\n",
       "      <td>Z</td>\n",
       "      <td>8.9</td>\n",
       "      <td>6.5</td>\n",
       "      <td>7.8</td>\n",
       "      <td>36</td>\n",
       "      <td>181</td>\n",
       "      <td>6</td>\n",
       "      <td>6</td>\n",
       "    </tr>\n",
       "    <tr>\n",
       "      <th>2</th>\n",
       "      <td>2024</td>\n",
       "      <td>Acura</td>\n",
       "      <td>Integra Type S</td>\n",
       "      <td>Full-size</td>\n",
       "      <td>2.0</td>\n",
       "      <td>4</td>\n",
       "      <td>M6</td>\n",
       "      <td>Z</td>\n",
       "      <td>11.1</td>\n",
       "      <td>8.3</td>\n",
       "      <td>9.9</td>\n",
       "      <td>29</td>\n",
       "      <td>230</td>\n",
       "      <td>5</td>\n",
       "      <td>6</td>\n",
       "    </tr>\n",
       "    <tr>\n",
       "      <th>3</th>\n",
       "      <td>2024</td>\n",
       "      <td>Acura</td>\n",
       "      <td>MDX SH-AWD</td>\n",
       "      <td>Sport utility vehicle: Small</td>\n",
       "      <td>3.5</td>\n",
       "      <td>6</td>\n",
       "      <td>AS10</td>\n",
       "      <td>Z</td>\n",
       "      <td>12.6</td>\n",
       "      <td>9.4</td>\n",
       "      <td>11.2</td>\n",
       "      <td>25</td>\n",
       "      <td>263</td>\n",
       "      <td>4</td>\n",
       "      <td>5</td>\n",
       "    </tr>\n",
       "    <tr>\n",
       "      <th>4</th>\n",
       "      <td>2024</td>\n",
       "      <td>Acura</td>\n",
       "      <td>MDX SH-AWD Type S</td>\n",
       "      <td>Sport utility vehicle: Standard</td>\n",
       "      <td>3.0</td>\n",
       "      <td>6</td>\n",
       "      <td>AS10</td>\n",
       "      <td>Z</td>\n",
       "      <td>13.8</td>\n",
       "      <td>11.2</td>\n",
       "      <td>12.4</td>\n",
       "      <td>23</td>\n",
       "      <td>291</td>\n",
       "      <td>4</td>\n",
       "      <td>5</td>\n",
       "    </tr>\n",
       "  </tbody>\n",
       "</table>\n",
       "</div>"
      ],
      "text/plain": [
       "   Model year   Make              Model                    Vehicle class  \\\n",
       "0        2024  Acura     Integra A-SPEC                        Full-size   \n",
       "1        2024  Acura     Integra A-SPEC                        Full-size   \n",
       "2        2024  Acura     Integra Type S                        Full-size   \n",
       "3        2024  Acura         MDX SH-AWD     Sport utility vehicle: Small   \n",
       "4        2024  Acura  MDX SH-AWD Type S  Sport utility vehicle: Standard   \n",
       "\n",
       "   Engine size (L)  Cylinders Transmission Fuel type  City (L/100 km)  \\\n",
       "0              1.5          4          AV7         Z              8.1   \n",
       "1              1.5          4           M6         Z              8.9   \n",
       "2              2.0          4           M6         Z             11.1   \n",
       "3              3.5          6         AS10         Z             12.6   \n",
       "4              3.0          6         AS10         Z             13.8   \n",
       "\n",
       "   Highway (L/100 km)  Combined (L/100 km)  Combined (mpg)  \\\n",
       "0                 6.5                  7.4              38   \n",
       "1                 6.5                  7.8              36   \n",
       "2                 8.3                  9.9              29   \n",
       "3                 9.4                 11.2              25   \n",
       "4                11.2                 12.4              23   \n",
       "\n",
       "   CO2 emissions (g/km)  CO2 rating  Smog rating  \n",
       "0                   172           6            7  \n",
       "1                   181           6            6  \n",
       "2                   230           5            6  \n",
       "3                   263           4            5  \n",
       "4                   291           4            5  "
      ]
     },
     "execution_count": 10,
     "metadata": {},
     "output_type": "execute_result"
    }
   ],
   "source": [
    "df.head()"
   ]
  },
  {
   "cell_type": "code",
   "execution_count": 4,
   "id": "d21c0597-14b8-4e37-be2c-0803873db32d",
   "metadata": {},
   "outputs": [
    {
     "data": {
      "text/plain": [
       "(739, 15)"
      ]
     },
     "execution_count": 4,
     "metadata": {},
     "output_type": "execute_result"
    }
   ],
   "source": [
    "df.shape"
   ]
  },
  {
   "cell_type": "code",
   "execution_count": 12,
   "id": "6cb75c97-55e0-4289-932a-73c51751a668",
   "metadata": {},
   "outputs": [
    {
     "name": "stdout",
     "output_type": "stream",
     "text": [
      "<class 'pandas.core.frame.DataFrame'>\n",
      "RangeIndex: 739 entries, 0 to 738\n",
      "Data columns (total 15 columns):\n",
      " #   Column                Non-Null Count  Dtype  \n",
      "---  ------                --------------  -----  \n",
      " 0   Model year            739 non-null    int64  \n",
      " 1   Make                  739 non-null    object \n",
      " 2   Model                 739 non-null    object \n",
      " 3   Vehicle class         739 non-null    object \n",
      " 4   Engine size (L)       739 non-null    float64\n",
      " 5   Cylinders             739 non-null    int64  \n",
      " 6   Transmission          739 non-null    object \n",
      " 7   Fuel type             739 non-null    object \n",
      " 8   City (L/100 km)       739 non-null    float64\n",
      " 9   Highway (L/100 km)    739 non-null    float64\n",
      " 10  Combined (L/100 km)   739 non-null    float64\n",
      " 11  Combined (mpg)        739 non-null    int64  \n",
      " 12  CO2 emissions (g/km)  739 non-null    int64  \n",
      " 13  CO2 rating            739 non-null    int64  \n",
      " 14  Smog rating           739 non-null    int64  \n",
      "dtypes: float64(4), int64(6), object(5)\n",
      "memory usage: 86.7+ KB\n"
     ]
    }
   ],
   "source": [
    "df.info()"
   ]
  },
  {
   "cell_type": "code",
   "execution_count": 13,
   "id": "20b07599-aecf-40e6-97b7-9dc82da0af72",
   "metadata": {},
   "outputs": [
    {
     "data": {
      "text/html": [
       "<div>\n",
       "<style scoped>\n",
       "    .dataframe tbody tr th:only-of-type {\n",
       "        vertical-align: middle;\n",
       "    }\n",
       "\n",
       "    .dataframe tbody tr th {\n",
       "        vertical-align: top;\n",
       "    }\n",
       "\n",
       "    .dataframe thead th {\n",
       "        text-align: right;\n",
       "    }\n",
       "</style>\n",
       "<table border=\"1\" class=\"dataframe\">\n",
       "  <thead>\n",
       "    <tr style=\"text-align: right;\">\n",
       "      <th></th>\n",
       "      <th>Model year</th>\n",
       "      <th>Engine size (L)</th>\n",
       "      <th>Cylinders</th>\n",
       "      <th>City (L/100 km)</th>\n",
       "      <th>Highway (L/100 km)</th>\n",
       "      <th>Combined (L/100 km)</th>\n",
       "      <th>Combined (mpg)</th>\n",
       "      <th>CO2 emissions (g/km)</th>\n",
       "      <th>CO2 rating</th>\n",
       "      <th>Smog rating</th>\n",
       "    </tr>\n",
       "  </thead>\n",
       "  <tbody>\n",
       "    <tr>\n",
       "      <th>count</th>\n",
       "      <td>739.0</td>\n",
       "      <td>739.000000</td>\n",
       "      <td>739.000000</td>\n",
       "      <td>739.000000</td>\n",
       "      <td>739.000000</td>\n",
       "      <td>739.000000</td>\n",
       "      <td>739.000000</td>\n",
       "      <td>739.000000</td>\n",
       "      <td>739.000000</td>\n",
       "      <td>739.000000</td>\n",
       "    </tr>\n",
       "    <tr>\n",
       "      <th>mean</th>\n",
       "      <td>2024.0</td>\n",
       "      <td>3.086333</td>\n",
       "      <td>5.537212</td>\n",
       "      <td>12.390798</td>\n",
       "      <td>9.428958</td>\n",
       "      <td>11.058593</td>\n",
       "      <td>27.392422</td>\n",
       "      <td>258.863329</td>\n",
       "      <td>4.488498</td>\n",
       "      <td>5.469553</td>\n",
       "    </tr>\n",
       "    <tr>\n",
       "      <th>std</th>\n",
       "      <td>0.0</td>\n",
       "      <td>1.271979</td>\n",
       "      <td>1.885520</td>\n",
       "      <td>3.404381</td>\n",
       "      <td>2.328945</td>\n",
       "      <td>2.864305</td>\n",
       "      <td>7.785070</td>\n",
       "      <td>65.275746</td>\n",
       "      <td>1.313187</td>\n",
       "      <td>1.614662</td>\n",
       "    </tr>\n",
       "    <tr>\n",
       "      <th>min</th>\n",
       "      <td>2024.0</td>\n",
       "      <td>1.200000</td>\n",
       "      <td>3.000000</td>\n",
       "      <td>4.400000</td>\n",
       "      <td>4.400000</td>\n",
       "      <td>4.400000</td>\n",
       "      <td>11.000000</td>\n",
       "      <td>104.000000</td>\n",
       "      <td>1.000000</td>\n",
       "      <td>1.000000</td>\n",
       "    </tr>\n",
       "    <tr>\n",
       "      <th>25%</th>\n",
       "      <td>2024.0</td>\n",
       "      <td>2.000000</td>\n",
       "      <td>4.000000</td>\n",
       "      <td>10.050000</td>\n",
       "      <td>7.650000</td>\n",
       "      <td>9.000000</td>\n",
       "      <td>22.000000</td>\n",
       "      <td>209.500000</td>\n",
       "      <td>4.000000</td>\n",
       "      <td>5.000000</td>\n",
       "    </tr>\n",
       "    <tr>\n",
       "      <th>50%</th>\n",
       "      <td>2024.0</td>\n",
       "      <td>3.000000</td>\n",
       "      <td>6.000000</td>\n",
       "      <td>12.200000</td>\n",
       "      <td>9.300000</td>\n",
       "      <td>11.000000</td>\n",
       "      <td>26.000000</td>\n",
       "      <td>260.000000</td>\n",
       "      <td>4.000000</td>\n",
       "      <td>6.000000</td>\n",
       "    </tr>\n",
       "    <tr>\n",
       "      <th>75%</th>\n",
       "      <td>2024.0</td>\n",
       "      <td>3.600000</td>\n",
       "      <td>6.000000</td>\n",
       "      <td>14.500000</td>\n",
       "      <td>10.800000</td>\n",
       "      <td>12.750000</td>\n",
       "      <td>31.000000</td>\n",
       "      <td>299.000000</td>\n",
       "      <td>5.000000</td>\n",
       "      <td>7.000000</td>\n",
       "    </tr>\n",
       "    <tr>\n",
       "      <th>max</th>\n",
       "      <td>2024.0</td>\n",
       "      <td>8.000000</td>\n",
       "      <td>16.000000</td>\n",
       "      <td>30.300000</td>\n",
       "      <td>20.900000</td>\n",
       "      <td>26.100000</td>\n",
       "      <td>64.000000</td>\n",
       "      <td>608.000000</td>\n",
       "      <td>8.000000</td>\n",
       "      <td>8.000000</td>\n",
       "    </tr>\n",
       "  </tbody>\n",
       "</table>\n",
       "</div>"
      ],
      "text/plain": [
       "       Model year  Engine size (L)   Cylinders  City (L/100 km)  \\\n",
       "count       739.0       739.000000  739.000000       739.000000   \n",
       "mean       2024.0         3.086333    5.537212        12.390798   \n",
       "std           0.0         1.271979    1.885520         3.404381   \n",
       "min        2024.0         1.200000    3.000000         4.400000   \n",
       "25%        2024.0         2.000000    4.000000        10.050000   \n",
       "50%        2024.0         3.000000    6.000000        12.200000   \n",
       "75%        2024.0         3.600000    6.000000        14.500000   \n",
       "max        2024.0         8.000000   16.000000        30.300000   \n",
       "\n",
       "       Highway (L/100 km)  Combined (L/100 km)  Combined (mpg)  \\\n",
       "count          739.000000           739.000000      739.000000   \n",
       "mean             9.428958            11.058593       27.392422   \n",
       "std              2.328945             2.864305        7.785070   \n",
       "min              4.400000             4.400000       11.000000   \n",
       "25%              7.650000             9.000000       22.000000   \n",
       "50%              9.300000            11.000000       26.000000   \n",
       "75%             10.800000            12.750000       31.000000   \n",
       "max             20.900000            26.100000       64.000000   \n",
       "\n",
       "       CO2 emissions (g/km)  CO2 rating  Smog rating  \n",
       "count            739.000000  739.000000   739.000000  \n",
       "mean             258.863329    4.488498     5.469553  \n",
       "std               65.275746    1.313187     1.614662  \n",
       "min              104.000000    1.000000     1.000000  \n",
       "25%              209.500000    4.000000     5.000000  \n",
       "50%              260.000000    4.000000     6.000000  \n",
       "75%              299.000000    5.000000     7.000000  \n",
       "max              608.000000    8.000000     8.000000  "
      ]
     },
     "execution_count": 13,
     "metadata": {},
     "output_type": "execute_result"
    }
   ],
   "source": [
    "df.describe()"
   ]
  },
  {
   "cell_type": "markdown",
   "id": "6e430a5c-08a6-4b7f-b110-fbbc1805642f",
   "metadata": {},
   "source": [
    "<b>See how relationship between each dependent varibale and independent variable</b><br>\n",
    "for this we use scatter plot <br>\n",
    "here i sellect CO2 emissions (g/km) as a dependent variable\n"
   ]
  },
  {
   "cell_type": "code",
   "execution_count": 34,
   "id": "ea755789-966f-4911-a3fe-1931a765759f",
   "metadata": {},
   "outputs": [],
   "source": [
    "df1 = df.iloc[:, 4:12]"
   ]
  },
  {
   "cell_type": "code",
   "execution_count": 44,
   "id": "201d771f-1c26-4a4c-bc61-838f6eea4815",
   "metadata": {},
   "outputs": [
    {
     "data": {
      "text/plain": [
       "<seaborn.axisgrid.FacetGrid at 0x7f72a46fe310>"
      ]
     },
     "execution_count": 44,
     "metadata": {},
     "output_type": "execute_result"
    },
    {
     "data": {
      "image/png": "[encoded data removed]",
      "text/plain": [
       "<Figure size 500x500 with 1 Axes>"
      ]
     },
     "metadata": {},
     "output_type": "display_data"
    }
   ],
   "source": [
    "sns.lmplot(data = df , x = \"Cylinders\", y = \"CO2 emissions (g/km)\")"
   ]
  },
  {
   "cell_type": "code",
   "execution_count": 45,
   "id": "d26e7c00-fcff-4c92-b239-a78b2fe2842f",
   "metadata": {},
   "outputs": [
    {
     "data": {
      "text/plain": [
       "<seaborn.axisgrid.FacetGrid at 0x7f72a18ead50>"
      ]
     },
     "execution_count": 45,
     "metadata": {},
     "output_type": "execute_result"
    },
    {
     "data": {
      "image/png": "[encoded data removed]",
      "text/plain": [
       "<Figure size 500x500 with 1 Axes>"
      ]
     },
     "metadata": {},
     "output_type": "display_data"
    }
   ],
   "source": [
    "sns.lmplot(data = df , x = \"Combined (L/100 km)\", y = \"CO2 emissions (g/km)\")"
   ]
  },
  {
   "cell_type": "code",
   "execution_count": 46,
   "id": "783edc6c-beb0-4fb7-9de4-2e487a8ed46f",
   "metadata": {},
   "outputs": [
    {
     "data": {
      "text/plain": [
       "<seaborn.axisgrid.FacetGrid at 0x7f72a9959650>"
      ]
     },
     "execution_count": 46,
     "metadata": {},
     "output_type": "execute_result"
    },
    {
     "data": {
      "image/png": "[encoded data removed]",
      "text/plain": [
       "<Figure size 500x500 with 1 Axes>"
      ]
     },
     "metadata": {},
     "output_type": "display_data"
    }
   ],
   "source": [
    "sns.lmplot(data = df , x = \"City (L/100 km)\", y = \"CO2 emissions (g/km)\")"
   ]
  },
  {
   "cell_type": "markdown",
   "id": "ac9f82a0-dc12-4e21-af97-5f8b8da6f0b1",
   "metadata": {},
   "source": [
    "<b> After we apply multiple linear regression we should clean the dataset</b>"
   ]
  },
  {
   "cell_type": "code",
   "execution_count": 17,
   "id": "55c54510-6045-43e1-9220-2aebe18618d1",
   "metadata": {},
   "outputs": [
    {
     "data": {
      "text/plain": [
       "array(['AV7', 'M6', 'AS10', 'A8', 'A9', 'AM7', 'AS8', 'AM8', 'AV', 'A6',\n",
       "       'A10', 'AS9', 'M7', 'AV1', 'AM6', 'AS7', 'AV8', 'AV6', 'AS6',\n",
       "       'AV10', 'M5', 'AS5'], dtype=object)"
      ]
     },
     "execution_count": 17,
     "metadata": {},
     "output_type": "execute_result"
    }
   ],
   "source": [
    "df.Transmission.unique()"
   ]
  },
  {
   "cell_type": "code",
   "execution_count": 18,
   "id": "4d6532d0-706a-4b78-b000-4b4b667ad95e",
   "metadata": {},
   "outputs": [
    {
     "data": {
      "text/plain": [
       "array(['Z', 'X', 'D', 'E'], dtype=object)"
      ]
     },
     "execution_count": 18,
     "metadata": {},
     "output_type": "execute_result"
    }
   ],
   "source": [
    "df['Fuel type'].unique()"
   ]
  },
  {
   "cell_type": "code",
   "execution_count": 19,
   "id": "dd87757a-6cb5-4c48-9282-1bd732db8bf4",
   "metadata": {},
   "outputs": [],
   "source": [
    "#covert object to numerical values\n",
    "df['Fuel type'] = df['Fuel type'].astype(\"category\")\n",
    "df['Fuel type'] = df['Fuel type'].cat.codes"
   ]
  },
  {
   "cell_type": "code",
   "execution_count": 20,
   "id": "42a2ddc6-6336-4dbc-9eb6-aac582b9eb06",
   "metadata": {},
   "outputs": [],
   "source": [
    "df['Transmission'] = df['Transmission'].astype(\"category\")\n",
    "df['Transmission'] = df['Transmission'].cat.codes"
   ]
  },
  {
   "cell_type": "markdown",
   "id": "64f3106f-af37-4a80-9c6a-f2ad057d4935",
   "metadata": {},
   "source": [
    "<b>Diveded the data into train data and label data</b>"
   ]
  },
  {
   "cell_type": "code",
   "execution_count": 23,
   "id": "d76816d0-9b1d-4595-ac4d-7c233c92cf94",
   "metadata": {},
   "outputs": [],
   "source": [
    "x = df.iloc[:,4:11]"
   ]
  },
  {
   "cell_type": "code",
   "execution_count": 24,
   "id": "529efb70-dc6f-444c-a599-32ff20b9277d",
   "metadata": {},
   "outputs": [
    {
     "data": {
      "text/html": [
       "<div>\n",
       "<style scoped>\n",
       "    .dataframe tbody tr th:only-of-type {\n",
       "        vertical-align: middle;\n",
       "    }\n",
       "\n",
       "    .dataframe tbody tr th {\n",
       "        vertical-align: top;\n",
       "    }\n",
       "\n",
       "    .dataframe thead th {\n",
       "        text-align: right;\n",
       "    }\n",
       "</style>\n",
       "<table border=\"1\" class=\"dataframe\">\n",
       "  <thead>\n",
       "    <tr style=\"text-align: right;\">\n",
       "      <th></th>\n",
       "      <th>Engine size (L)</th>\n",
       "      <th>Cylinders</th>\n",
       "      <th>Transmission</th>\n",
       "      <th>Fuel type</th>\n",
       "      <th>City (L/100 km)</th>\n",
       "      <th>Highway (L/100 km)</th>\n",
       "      <th>Combined (L/100 km)</th>\n",
       "    </tr>\n",
       "  </thead>\n",
       "  <tbody>\n",
       "    <tr>\n",
       "      <th>0</th>\n",
       "      <td>1.5</td>\n",
       "      <td>4</td>\n",
       "      <td>17</td>\n",
       "      <td>3</td>\n",
       "      <td>8.1</td>\n",
       "      <td>6.5</td>\n",
       "      <td>7.4</td>\n",
       "    </tr>\n",
       "    <tr>\n",
       "      <th>1</th>\n",
       "      <td>1.5</td>\n",
       "      <td>4</td>\n",
       "      <td>20</td>\n",
       "      <td>3</td>\n",
       "      <td>8.9</td>\n",
       "      <td>6.5</td>\n",
       "      <td>7.8</td>\n",
       "    </tr>\n",
       "    <tr>\n",
       "      <th>2</th>\n",
       "      <td>2.0</td>\n",
       "      <td>4</td>\n",
       "      <td>20</td>\n",
       "      <td>3</td>\n",
       "      <td>11.1</td>\n",
       "      <td>8.3</td>\n",
       "      <td>9.9</td>\n",
       "    </tr>\n",
       "    <tr>\n",
       "      <th>3</th>\n",
       "      <td>3.5</td>\n",
       "      <td>6</td>\n",
       "      <td>7</td>\n",
       "      <td>3</td>\n",
       "      <td>12.6</td>\n",
       "      <td>9.4</td>\n",
       "      <td>11.2</td>\n",
       "    </tr>\n",
       "    <tr>\n",
       "      <th>4</th>\n",
       "      <td>3.0</td>\n",
       "      <td>6</td>\n",
       "      <td>7</td>\n",
       "      <td>3</td>\n",
       "      <td>13.8</td>\n",
       "      <td>11.2</td>\n",
       "      <td>12.4</td>\n",
       "    </tr>\n",
       "    <tr>\n",
       "      <th>...</th>\n",
       "      <td>...</td>\n",
       "      <td>...</td>\n",
       "      <td>...</td>\n",
       "      <td>...</td>\n",
       "      <td>...</td>\n",
       "      <td>...</td>\n",
       "      <td>...</td>\n",
       "    </tr>\n",
       "    <tr>\n",
       "      <th>734</th>\n",
       "      <td>2.0</td>\n",
       "      <td>4</td>\n",
       "      <td>11</td>\n",
       "      <td>3</td>\n",
       "      <td>10.0</td>\n",
       "      <td>7.5</td>\n",
       "      <td>8.9</td>\n",
       "    </tr>\n",
       "    <tr>\n",
       "      <th>735</th>\n",
       "      <td>2.0</td>\n",
       "      <td>4</td>\n",
       "      <td>11</td>\n",
       "      <td>3</td>\n",
       "      <td>10.7</td>\n",
       "      <td>8.1</td>\n",
       "      <td>9.5</td>\n",
       "    </tr>\n",
       "    <tr>\n",
       "      <th>736</th>\n",
       "      <td>2.0</td>\n",
       "      <td>4</td>\n",
       "      <td>11</td>\n",
       "      <td>3</td>\n",
       "      <td>9.9</td>\n",
       "      <td>7.8</td>\n",
       "      <td>9.0</td>\n",
       "    </tr>\n",
       "    <tr>\n",
       "      <th>737</th>\n",
       "      <td>2.0</td>\n",
       "      <td>4</td>\n",
       "      <td>11</td>\n",
       "      <td>3</td>\n",
       "      <td>10.6</td>\n",
       "      <td>8.3</td>\n",
       "      <td>9.6</td>\n",
       "    </tr>\n",
       "    <tr>\n",
       "      <th>738</th>\n",
       "      <td>2.0</td>\n",
       "      <td>4</td>\n",
       "      <td>11</td>\n",
       "      <td>3</td>\n",
       "      <td>10.9</td>\n",
       "      <td>8.6</td>\n",
       "      <td>9.8</td>\n",
       "    </tr>\n",
       "  </tbody>\n",
       "</table>\n",
       "<p>739 rows × 7 columns</p>\n",
       "</div>"
      ],
      "text/plain": [
       "     Engine size (L)  Cylinders  Transmission  Fuel type  City (L/100 km)  \\\n",
       "0                1.5          4            17          3              8.1   \n",
       "1                1.5          4            20          3              8.9   \n",
       "2                2.0          4            20          3             11.1   \n",
       "3                3.5          6             7          3             12.6   \n",
       "4                3.0          6             7          3             13.8   \n",
       "..               ...        ...           ...        ...              ...   \n",
       "734              2.0          4            11          3             10.0   \n",
       "735              2.0          4            11          3             10.7   \n",
       "736              2.0          4            11          3              9.9   \n",
       "737              2.0          4            11          3             10.6   \n",
       "738              2.0          4            11          3             10.9   \n",
       "\n",
       "     Highway (L/100 km)  Combined (L/100 km)  \n",
       "0                   6.5                  7.4  \n",
       "1                   6.5                  7.8  \n",
       "2                   8.3                  9.9  \n",
       "3                   9.4                 11.2  \n",
       "4                  11.2                 12.4  \n",
       "..                  ...                  ...  \n",
       "734                 7.5                  8.9  \n",
       "735                 8.1                  9.5  \n",
       "736                 7.8                  9.0  \n",
       "737                 8.3                  9.6  \n",
       "738                 8.6                  9.8  \n",
       "\n",
       "[739 rows x 7 columns]"
      ]
     },
     "execution_count": 24,
     "metadata": {},
     "output_type": "execute_result"
    }
   ],
   "source": [
    "x"
   ]
  },
  {
   "cell_type": "code",
   "execution_count": 25,
   "id": "2fad1ff0-c1ea-4c5d-a94a-b1ff0cec807a",
   "metadata": {},
   "outputs": [],
   "source": [
    "y = df[\"CO2 emissions (g/km)\"]"
   ]
  },
  {
   "cell_type": "code",
   "execution_count": 26,
   "id": "0d9ee0f7-cc10-4e50-b651-094c77494cd6",
   "metadata": {},
   "outputs": [
    {
     "data": {
      "text/plain": [
       "0      172\n",
       "1      181\n",
       "2      230\n",
       "3      263\n",
       "4      291\n",
       "      ... \n",
       "734    207\n",
       "735    223\n",
       "736    210\n",
       "737    226\n",
       "738    230\n",
       "Name: CO2 emissions (g/km), Length: 739, dtype: int64"
      ]
     },
     "execution_count": 26,
     "metadata": {},
     "output_type": "execute_result"
    }
   ],
   "source": [
    "y"
   ]
  },
  {
   "cell_type": "markdown",
   "id": "0624b9b7-594a-477c-b3fc-3153c4e07d4d",
   "metadata": {},
   "source": [
    "<b>Devided the data into train and test data</b>"
   ]
  },
  {
   "cell_type": "code",
   "execution_count": 29,
   "id": "599fd38c-3fcd-4315-9d65-99ede23683a9",
   "metadata": {},
   "outputs": [],
   "source": [
    "from sklearn.model_selection import train_test_split"
   ]
  },
  {
   "cell_type": "code",
   "execution_count": 31,
   "id": "59bfd97d-c2aa-4725-8d01-54ede50b7e5d",
   "metadata": {},
   "outputs": [],
   "source": [
    "x_train, x_test, y_train, y_test = train_test_split(x,y, test_size = 0.4, random_state = 24 )"
   ]
  },
  {
   "cell_type": "code",
   "execution_count": 32,
   "id": "671a08c7-714d-46fe-8da2-f7a588e6fe9a",
   "metadata": {},
   "outputs": [
    {
     "data": {
      "text/html": [
       "<div>\n",
       "<style scoped>\n",
       "    .dataframe tbody tr th:only-of-type {\n",
       "        vertical-align: middle;\n",
       "    }\n",
       "\n",
       "    .dataframe tbody tr th {\n",
       "        vertical-align: top;\n",
       "    }\n",
       "\n",
       "    .dataframe thead th {\n",
       "        text-align: right;\n",
       "    }\n",
       "</style>\n",
       "<table border=\"1\" class=\"dataframe\">\n",
       "  <thead>\n",
       "    <tr style=\"text-align: right;\">\n",
       "      <th></th>\n",
       "      <th>Engine size (L)</th>\n",
       "      <th>Cylinders</th>\n",
       "      <th>Transmission</th>\n",
       "      <th>Fuel type</th>\n",
       "      <th>City (L/100 km)</th>\n",
       "      <th>Highway (L/100 km)</th>\n",
       "      <th>Combined (L/100 km)</th>\n",
       "    </tr>\n",
       "  </thead>\n",
       "  <tbody>\n",
       "    <tr>\n",
       "      <th>275</th>\n",
       "      <td>3.5</td>\n",
       "      <td>6</td>\n",
       "      <td>11</td>\n",
       "      <td>3</td>\n",
       "      <td>12.9</td>\n",
       "      <td>10.0</td>\n",
       "      <td>11.6</td>\n",
       "    </tr>\n",
       "    <tr>\n",
       "      <th>631</th>\n",
       "      <td>4.0</td>\n",
       "      <td>8</td>\n",
       "      <td>11</td>\n",
       "      <td>3</td>\n",
       "      <td>15.5</td>\n",
       "      <td>11.8</td>\n",
       "      <td>13.8</td>\n",
       "    </tr>\n",
       "    <tr>\n",
       "      <th>157</th>\n",
       "      <td>6.2</td>\n",
       "      <td>8</td>\n",
       "      <td>11</td>\n",
       "      <td>3</td>\n",
       "      <td>15.0</td>\n",
       "      <td>9.4</td>\n",
       "      <td>12.5</td>\n",
       "    </tr>\n",
       "    <tr>\n",
       "      <th>729</th>\n",
       "      <td>1.5</td>\n",
       "      <td>4</td>\n",
       "      <td>5</td>\n",
       "      <td>2</td>\n",
       "      <td>9.9</td>\n",
       "      <td>7.5</td>\n",
       "      <td>8.8</td>\n",
       "    </tr>\n",
       "    <tr>\n",
       "      <th>582</th>\n",
       "      <td>4.0</td>\n",
       "      <td>6</td>\n",
       "      <td>20</td>\n",
       "      <td>3</td>\n",
       "      <td>14.0</td>\n",
       "      <td>10.0</td>\n",
       "      <td>12.2</td>\n",
       "    </tr>\n",
       "    <tr>\n",
       "      <th>...</th>\n",
       "      <td>...</td>\n",
       "      <td>...</td>\n",
       "      <td>...</td>\n",
       "      <td>...</td>\n",
       "      <td>...</td>\n",
       "      <td>...</td>\n",
       "      <td>...</td>\n",
       "    </tr>\n",
       "    <tr>\n",
       "      <th>145</th>\n",
       "      <td>3.6</td>\n",
       "      <td>6</td>\n",
       "      <td>20</td>\n",
       "      <td>2</td>\n",
       "      <td>14.3</td>\n",
       "      <td>9.0</td>\n",
       "      <td>11.9</td>\n",
       "    </tr>\n",
       "    <tr>\n",
       "      <th>401</th>\n",
       "      <td>2.5</td>\n",
       "      <td>4</td>\n",
       "      <td>6</td>\n",
       "      <td>2</td>\n",
       "      <td>9.9</td>\n",
       "      <td>7.3</td>\n",
       "      <td>8.7</td>\n",
       "    </tr>\n",
       "    <tr>\n",
       "      <th>343</th>\n",
       "      <td>2.0</td>\n",
       "      <td>4</td>\n",
       "      <td>14</td>\n",
       "      <td>2</td>\n",
       "      <td>8.1</td>\n",
       "      <td>6.8</td>\n",
       "      <td>7.5</td>\n",
       "    </tr>\n",
       "    <tr>\n",
       "      <th>192</th>\n",
       "      <td>3.0</td>\n",
       "      <td>6</td>\n",
       "      <td>0</td>\n",
       "      <td>0</td>\n",
       "      <td>11.0</td>\n",
       "      <td>8.4</td>\n",
       "      <td>9.8</td>\n",
       "    </tr>\n",
       "    <tr>\n",
       "      <th>418</th>\n",
       "      <td>4.0</td>\n",
       "      <td>8</td>\n",
       "      <td>11</td>\n",
       "      <td>3</td>\n",
       "      <td>16.6</td>\n",
       "      <td>12.5</td>\n",
       "      <td>14.8</td>\n",
       "    </tr>\n",
       "  </tbody>\n",
       "</table>\n",
       "<p>443 rows × 7 columns</p>\n",
       "</div>"
      ],
      "text/plain": [
       "     Engine size (L)  Cylinders  Transmission  Fuel type  City (L/100 km)  \\\n",
       "275              3.5          6            11          3             12.9   \n",
       "631              4.0          8            11          3             15.5   \n",
       "157              6.2          8            11          3             15.0   \n",
       "729              1.5          4             5          2              9.9   \n",
       "582              4.0          6            20          3             14.0   \n",
       "..               ...        ...           ...        ...              ...   \n",
       "145              3.6          6            20          2             14.3   \n",
       "401              2.5          4             6          2              9.9   \n",
       "343              2.0          4            14          2              8.1   \n",
       "192              3.0          6             0          0             11.0   \n",
       "418              4.0          8            11          3             16.6   \n",
       "\n",
       "     Highway (L/100 km)  Combined (L/100 km)  \n",
       "275                10.0                 11.6  \n",
       "631                11.8                 13.8  \n",
       "157                 9.4                 12.5  \n",
       "729                 7.5                  8.8  \n",
       "582                10.0                 12.2  \n",
       "..                  ...                  ...  \n",
       "145                 9.0                 11.9  \n",
       "401                 7.3                  8.7  \n",
       "343                 6.8                  7.5  \n",
       "192                 8.4                  9.8  \n",
       "418                12.5                 14.8  \n",
       "\n",
       "[443 rows x 7 columns]"
      ]
     },
     "execution_count": 32,
     "metadata": {},
     "output_type": "execute_result"
    }
   ],
   "source": [
    "x_train"
   ]
  },
  {
   "cell_type": "markdown",
   "id": "b67657eb-0bdd-499f-a464-35d3366434e0",
   "metadata": {},
   "source": [
    "<b>Apply multiple linear regression model</b>"
   ]
  },
  {
   "cell_type": "code",
   "execution_count": 48,
   "id": "f61a7f94-1f50-4254-9599-3136b94cd839",
   "metadata": {},
   "outputs": [],
   "source": [
    "from sklearn.linear_model import LinearRegression"
   ]
  },
  {
   "cell_type": "code",
   "execution_count": 49,
   "id": "462c8628-b1a9-460e-b30a-91870f3bd1b7",
   "metadata": {},
   "outputs": [],
   "source": [
    "lr = LinearRegression()"
   ]
  },
  {
   "cell_type": "code",
   "execution_count": 50,
   "id": "8ddc512c-59e8-48d7-ae6e-d197ba0ed964",
   "metadata": {},
   "outputs": [
    {
     "data": {
      "text/html": [
       "<style>#sk-container-id-1 {color: black;}#sk-container-id-1 pre{padding: 0;}#sk-container-id-1 div.sk-toggleable {background-color: white;}#sk-container-id-1 label.sk-toggleable__label {cursor: pointer;display: block;width: 100%;margin-bottom: 0;padding: 0.3em;box-sizing: border-box;text-align: center;}#sk-container-id-1 label.sk-toggleable__label-arrow:before {content: \"▸\";float: left;margin-right: 0.25em;color: #696969;}#sk-container-id-1 label.sk-toggleable__label-arrow:hover:before {color: black;}#sk-container-id-1 div.sk-estimator:hover label.sk-toggleable__label-arrow:before {color: black;}#sk-container-id-1 div.sk-toggleable__content {max-height: 0;max-width: 0;overflow: hidden;text-align: left;background-color: #f0f8ff;}#sk-container-id-1 div.sk-toggleable__content pre {margin: 0.2em;color: black;border-radius: 0.25em;background-color: #f0f8ff;}#sk-container-id-1 input.sk-toggleable__control:checked~div.sk-toggleable__content {max-height: 200px;max-width: 100%;overflow: auto;}#sk-container-id-1 input.sk-toggleable__control:checked~label.sk-toggleable__label-arrow:before {content: \"▾\";}#sk-container-id-1 div.sk-estimator input.sk-toggleable__control:checked~label.sk-toggleable__label {background-color: #d4ebff;}#sk-container-id-1 div.sk-label input.sk-toggleable__control:checked~label.sk-toggleable__label {background-color: #d4ebff;}#sk-container-id-1 input.sk-hidden--visually {border: 0;clip: rect(1px 1px 1px 1px);clip: rect(1px, 1px, 1px, 1px);height: 1px;margin: -1px;overflow: hidden;padding: 0;position: absolute;width: 1px;}#sk-container-id-1 div.sk-estimator {font-family: monospace;background-color: #f0f8ff;border: 1px dotted black;border-radius: 0.25em;box-sizing: border-box;margin-bottom: 0.5em;}#sk-container-id-1 div.sk-estimator:hover {background-color: #d4ebff;}#sk-container-id-1 div.sk-parallel-item::after {content: \"\";width: 100%;border-bottom: 1px solid gray;flex-grow: 1;}#sk-container-id-1 div.sk-label:hover label.sk-toggleable__label {background-color: #d4ebff;}#sk-container-id-1 div.sk-serial::before {content: \"\";position: absolute;border-left: 1px solid gray;box-sizing: border-box;top: 0;bottom: 0;left: 50%;z-index: 0;}#sk-container-id-1 div.sk-serial {display: flex;flex-direction: column;align-items: center;background-color: white;padding-right: 0.2em;padding-left: 0.2em;position: relative;}#sk-container-id-1 div.sk-item {position: relative;z-index: 1;}#sk-container-id-1 div.sk-parallel {display: flex;align-items: stretch;justify-content: center;background-color: white;position: relative;}#sk-container-id-1 div.sk-item::before, #sk-container-id-1 div.sk-parallel-item::before {content: \"\";position: absolute;border-left: 1px solid gray;box-sizing: border-box;top: 0;bottom: 0;left: 50%;z-index: -1;}#sk-container-id-1 div.sk-parallel-item {display: flex;flex-direction: column;z-index: 1;position: relative;background-color: white;}#sk-container-id-1 div.sk-parallel-item:first-child::after {align-self: flex-end;width: 50%;}#sk-container-id-1 div.sk-parallel-item:last-child::after {align-self: flex-start;width: 50%;}#sk-container-id-1 div.sk-parallel-item:only-child::after {width: 0;}#sk-container-id-1 div.sk-dashed-wrapped {border: 1px dashed gray;margin: 0 0.4em 0.5em 0.4em;box-sizing: border-box;padding-bottom: 0.4em;background-color: white;}#sk-container-id-1 div.sk-label label {font-family: monospace;font-weight: bold;display: inline-block;line-height: 1.2em;}#sk-container-id-1 div.sk-label-container {text-align: center;}#sk-container-id-1 div.sk-container {/* jupyter's `normalize.less` sets `[hidden] { display: none; }` but bootstrap.min.css set `[hidden] { display: none !important; }` so we also need the `!important` here to be able to override the default hidden behavior on the sphinx rendered scikit-learn.org. See: https://github.com/scikit-learn/scikit-learn/issues/21755 */display: inline-block !important;position: relative;}#sk-container-id-1 div.sk-text-repr-fallback {display: none;}</style><div id=\"sk-container-id-1\" class=\"sk-top-container\"><div class=\"sk-text-repr-fallback\"><pre>LinearRegression()</pre><b>In a Jupyter environment, please rerun this cell to show the HTML representation or trust the notebook. <br />On GitHub, the HTML representation is unable to render, please try loading this page with nbviewer.org.</b></div><div class=\"sk-container\" hidden><div class=\"sk-item\"><div class=\"sk-estimator sk-toggleable\"><input class=\"sk-toggleable__control sk-hidden--visually\" id=\"sk-estimator-id-1\" type=\"checkbox\" checked><label for=\"sk-estimator-id-1\" class=\"sk-toggleable__label sk-toggleable__label-arrow\">LinearRegression</label><div class=\"sk-toggleable__content\"><pre>LinearRegression()</pre></div></div></div></div></div>"
      ],
      "text/plain": [
       "LinearRegression()"
      ]
     },
     "execution_count": 50,
     "metadata": {},
     "output_type": "execute_result"
    }
   ],
   "source": [
    "lr.fit(x_train, y_train)"
   ]
  },
  {
   "cell_type": "markdown",
   "id": "98f6b51c-e0c9-40d8-9368-534e4ac005b3",
   "metadata": {},
   "source": [
    "<b>Find the coefficient and intercept</b>"
   ]
  },
  {
   "cell_type": "code",
   "execution_count": 52,
   "id": "10736692-7280-4966-86d9-f20641603184",
   "metadata": {},
   "outputs": [
    {
     "name": "stdout",
     "output_type": "stream",
     "text": [
      "Intercept 13.106181\n"
     ]
    }
   ],
   "source": [
    "#Intercept\n",
    "c = lr.intercept_\n",
    "print(\"Intercept %2f\" % c)"
   ]
  },
  {
   "cell_type": "code",
   "execution_count": 55,
   "id": "1cc5759f-b30e-4732-bfa6-5efcddcedf3e",
   "metadata": {},
   "outputs": [
    {
     "name": "stdout",
     "output_type": "stream",
     "text": [
      "coefficient : [-1.44963372  2.32784473 -0.13102094 -0.57694514  9.06034165  7.26086122\n",
      "  5.35078379]\n"
     ]
    }
   ],
   "source": [
    "#coefficient \n",
    "m = lr.coef_\n",
    "print(\"coefficient :\", m)"
   ]
  },
  {
   "cell_type": "markdown",
   "id": "603c6661-0aa5-44e5-8bbc-1689cfc94815",
   "metadata": {},
   "source": [
    "<b>Test the model (Train data)</b>"
   ]
  },
  {
   "cell_type": "code",
   "execution_count": 56,
   "id": "89d58533-c280-492f-8673-6bd235900717",
   "metadata": {},
   "outputs": [],
   "source": [
    "y_pred_train = lr.predict(x_train)"
   ]
  },
  {
   "cell_type": "code",
   "execution_count": 57,
   "id": "216087fd-7513-407e-add3-fa05417c75f3",
   "metadata": {},
   "outputs": [
    {
     "data": {
      "text/plain": [
       "array([270.38357708, 322.71261251, 290.61116166, 209.67485321,\n",
       "       281.65641786, 218.71707711, 305.7709847 , 286.99249595,\n",
       "       300.90150899, 273.75074926, 185.79507039, 199.8842446 ,\n",
       "       342.17329186, 229.98503836, 346.06499849, 241.41258361,\n",
       "       250.26132632, 361.60157918, 168.87991119, 297.93528933,\n",
       "       439.71955717, 321.12761735, 138.56060294, 131.7089013 ,\n",
       "       316.4715829 , 258.66136202, 252.04772817, 221.66634935,\n",
       "       188.92104682, 173.04674215, 207.18547888, 349.26948964,\n",
       "       198.04421308, 247.27742864, 312.84762262, 218.5815642 ,\n",
       "       275.0473185 , 341.0848451 , 439.71955717, 221.7097443 ,\n",
       "       190.18697707, 286.89431083, 252.28841345, 330.34846975,\n",
       "       301.08927918, 323.56758452, 319.84552191, 220.71668655,\n",
       "       165.2498371 , 348.10719643, 311.67696683, 319.59307638,\n",
       "       188.64324457, 260.91804583, 323.56758452, 334.0111746 ,\n",
       "       249.16560301, 230.02316295, 321.54782673, 158.24533898,\n",
       "       232.0812556 , 350.64708603, 178.91748243, 407.73538991,\n",
       "       283.31928414, 320.17070264, 233.47344104, 275.8336122 ,\n",
       "       173.90218727, 242.85720942, 296.15128083, 259.35774534,\n",
       "       287.41669443, 449.55373035, 231.42390902, 214.45753442,\n",
       "       161.31857181, 296.02726752, 331.01298991, 343.61851059,\n",
       "       273.71050558, 228.97473825, 285.76876106, 255.86521987,\n",
       "       199.96418499, 121.00989884, 183.5297998 , 331.72871537,\n",
       "       230.82884384, 230.83765346, 284.13034683, 222.43325069,\n",
       "       156.20040852, 162.97684429, 250.02517852, 288.07117213,\n",
       "       251.19286299, 292.22292389, 331.63097959, 326.6345234 ,\n",
       "       190.24937626, 265.42417054, 172.68684606, 251.29390623,\n",
       "       307.31636318, 283.92534394, 284.08662326, 265.86796244,\n",
       "       251.78355399, 275.1918618 , 209.02807813, 201.98034405,\n",
       "       177.1316855 , 276.06461145, 251.25192988, 272.17469534,\n",
       "       198.12968561, 276.09789597, 291.43564678, 202.73850649,\n",
       "       202.05144326, 229.97107031, 278.88467293, 188.71916224,\n",
       "       208.41007444, 196.42315249, 192.89693511, 298.1372917 ,\n",
       "       277.88859805, 231.48619042, 194.61584991, 203.70363492,\n",
       "       208.55303926, 265.30453579, 229.40995063, 411.16709811,\n",
       "       164.48209564, 266.60412079, 319.94929188, 211.82629151,\n",
       "       216.56853121, 326.6345234 , 205.05357688, 214.37659206,\n",
       "       284.23435948, 206.95885146, 266.67198075, 240.58137063,\n",
       "       327.9472388 , 260.88111673, 222.27398565, 299.83813667,\n",
       "       323.56758452, 375.88795248, 348.01596091, 301.36204078,\n",
       "       266.9390296 , 213.72237154, 321.44038831, 221.94929407,\n",
       "       287.5484429 , 201.86136233, 323.13184733, 283.62516088,\n",
       "       184.22260141, 221.1112152 , 390.02753176, 273.94004594,\n",
       "       281.66987528, 340.76776679, 306.8148391 , 206.34829319,\n",
       "       272.28128844, 228.55054626, 252.76189155, 281.20528625,\n",
       "       194.34142636, 317.7672947 , 236.06927534, 202.53277608,\n",
       "       263.1757074 , 359.07448443, 292.96194036, 283.31928414,\n",
       "       160.22979214, 138.36357255, 389.66134172, 309.48317607,\n",
       "       237.1966361 , 292.31469037, 205.49544902, 254.20571759,\n",
       "       262.73553542, 216.56052745, 190.09541681, 226.41459456,\n",
       "       208.61701305, 193.43201349, 228.55054626, 196.85993887,\n",
       "       163.57606147, 179.82359427, 244.70785672, 205.014878  ,\n",
       "       293.44483393, 184.73452811, 272.12339472, 268.33109725,\n",
       "       244.65125764, 299.95964096, 270.84330432, 318.2320054 ,\n",
       "       204.63128161, 207.54285694, 210.04828245, 221.53431633,\n",
       "       493.69725042, 234.90344118, 200.0314637 , 231.06625482,\n",
       "       199.82420508, 227.00977753, 247.44915666, 228.55054626,\n",
       "       227.77306459, 211.08013401, 399.78885912, 215.66726279,\n",
       "       449.44971464, 179.35600843, 211.74141487, 145.0340569 ,\n",
       "       259.01247976, 300.37425275, 270.94074924, 249.52370466,\n",
       "       208.55303926, 271.3973086 , 287.09139034, 355.19310421,\n",
       "       326.6345234 , 293.44483393, 218.09407611, 353.19552718,\n",
       "       182.3873745 , 170.54170171, 259.85728347, 226.69166863,\n",
       "       233.23345349, 300.91539076, 287.09139034, 352.22841332,\n",
       "       259.26435059, 200.35928346, 216.31579976, 196.05214399,\n",
       "       371.00741707, 219.57224845, 382.7264832 , 298.8414806 ,\n",
       "       330.06396484, 371.00741707, 217.93686035, 323.56758452,\n",
       "       254.81897213, 277.88474445, 151.93627892, 307.60322875,\n",
       "       241.41258361, 439.71955717, 259.32974269, 220.95913041,\n",
       "       173.45294154, 224.5285934 , 308.65717657, 344.7044928 ,\n",
       "       349.26948964, 242.19116281, 207.73053979, 287.09139034,\n",
       "       325.59960335, 338.5854417 , 231.48891839, 324.09744722,\n",
       "       390.02753176, 251.19286299, 278.7189245 , 207.67873896,\n",
       "       348.00832514, 185.46060733, 198.04421308, 186.78104495,\n",
       "       206.98090578, 252.54835284, 375.88795248, 261.35838282,\n",
       "       226.39647451, 381.40752481, 319.59307638, 152.60654119,\n",
       "       328.98796406, 237.70067374, 257.00430468, 273.94004594,\n",
       "       261.25905312, 170.36048441, 276.65338268, 160.68277669,\n",
       "       205.05357688, 293.27809692, 218.17723298, 319.59307638,\n",
       "       319.83691294, 296.54975801, 313.63762535, 287.83992346,\n",
       "       114.68294742, 370.56523753, 274.89162851, 194.73992009,\n",
       "       208.06103183, 238.324744  , 186.81624734, 221.34705076,\n",
       "       258.5168226 , 220.14524334, 216.79560438, 291.3020631 ,\n",
       "       319.00973335, 284.63276134, 219.30765033, 273.07697584,\n",
       "       283.47088391, 212.78958238, 271.97314949, 346.06499849,\n",
       "       217.79484478, 243.16468191, 397.25521388, 286.70263787,\n",
       "       281.04684691, 298.1372917 , 240.40600672, 258.94270888,\n",
       "       307.50221939, 274.66613206, 250.26132632, 307.8458401 ,\n",
       "       264.56551932, 258.35387293, 383.36174745, 181.08133496,\n",
       "       181.33485566, 311.49784125, 210.90018597, 339.28411326,\n",
       "       314.93879231, 266.77399661, 254.8991462 , 280.51993313,\n",
       "       322.40136975, 181.2466741 , 237.61677792, 282.61513455,\n",
       "       267.6274986 , 208.55303926, 289.26488295, 255.65855504,\n",
       "       200.55575368, 283.35935456, 198.5314325 , 179.2934744 ,\n",
       "       260.88111673, 197.2521175 , 187.85221203, 229.61884833,\n",
       "       182.2160322 , 326.6345234 , 212.78958238, 203.03102959,\n",
       "       350.49251684, 166.91133618, 346.06499849, 145.18446714,\n",
       "       289.76686079, 119.73237117, 296.02726752, 312.18023743,\n",
       "       181.9507059 , 224.3074354 , 284.58044864, 123.33003338,\n",
       "       247.09555452, 234.48059723, 216.92842729, 208.22395023,\n",
       "       190.04258588, 236.88465503, 283.82041279, 305.33662554,\n",
       "       346.06499849, 257.4325349 , 326.6345234 , 219.42219932,\n",
       "       229.55890098, 214.16424368, 277.31881679, 345.70920474,\n",
       "       224.01852074, 343.11237497, 257.32953822, 265.66078951,\n",
       "       213.36247546, 285.13533486, 397.25521388, 231.9589874 ,\n",
       "       225.186479  , 338.5854417 , 390.25626751, 389.66134172,\n",
       "       296.82360478, 254.27283405, 254.33955259, 330.60941043,\n",
       "       205.49544902, 118.99563604, 186.23617613, 271.84455229,\n",
       "       155.36813858, 236.15125138, 283.47088391, 385.06244998,\n",
       "       321.78267799, 292.78044568, 358.31739197, 241.21905236,\n",
       "       157.66702465, 341.33441687, 276.66522263, 206.10694793,\n",
       "       179.42361115, 235.81702178, 343.11237497])"
      ]
     },
     "execution_count": 57,
     "metadata": {},
     "output_type": "execute_result"
    }
   ],
   "source": [
    "y_pred_train"
   ]
  },
  {
   "cell_type": "code",
   "execution_count": 60,
   "id": "2e429f5c-d15e-4112-8537-2d312a1bcf03",
   "metadata": {},
   "outputs": [
    {
     "data": {
      "text/plain": [
       "<matplotlib.collections.PathCollection at 0x7f72a2ca60d0>"
      ]
     },
     "execution_count": 60,
     "metadata": {},
     "output_type": "execute_result"
    },
    {
     "data": {
      "image/png": "[encoded data removed]",
      "text/plain": [
       "<Figure size 640x480 with 1 Axes>"
      ]
     },
     "metadata": {},
     "output_type": "display_data"
    }
   ],
   "source": [
    "plt.scatter(y_train, y_pred_train)"
   ]
  },
  {
   "cell_type": "code",
   "execution_count": 62,
   "id": "734ca626-2cdc-45c3-b7d4-8255db998a75",
   "metadata": {},
   "outputs": [],
   "source": [
    "from sklearn.metrics import r2_score"
   ]
  },
  {
   "cell_type": "code",
   "execution_count": 64,
   "id": "0868c2c7-2a8f-42d6-b86d-c43a4f00fc5a",
   "metadata": {},
   "outputs": [
    {
     "data": {
      "text/plain": [
       "0.9682724537886259"
      ]
     },
     "execution_count": 64,
     "metadata": {},
     "output_type": "execute_result"
    }
   ],
   "source": [
    "r2_score(y_train , y_pred_train)"
   ]
  },
  {
   "cell_type": "markdown",
   "id": "c9fd56a0-47a9-440d-be2f-d59c60ac3814",
   "metadata": {},
   "source": [
    "On the basis of train data the model shows that , 96% of total variable can be explained by the dependent varibale..."
   ]
  },
  {
   "cell_type": "markdown",
   "id": "147e1da8-149c-47b9-bc0d-2dd4f120a7a9",
   "metadata": {},
   "source": [
    "<b>Test the model (Test data)</b>"
   ]
  },
  {
   "cell_type": "code",
   "execution_count": 66,
   "id": "d3f8b19e-23c4-41f7-883c-1e4e94fea92f",
   "metadata": {},
   "outputs": [],
   "source": [
    "y_pred_test = lr.predict(x_test)"
   ]
  },
  {
   "cell_type": "code",
   "execution_count": 67,
   "id": "d2badc5f-4965-4af0-92a9-ffbb6b0d3780",
   "metadata": {},
   "outputs": [
    {
     "data": {
      "text/plain": [
       "array([331.67032184, 265.30453579, 320.1616174 , 212.85470765,\n",
       "       240.19761824, 278.64063331, 223.09519801, 294.76561095,\n",
       "       272.12339472, 266.9390296 , 307.50221939, 203.90767295,\n",
       "       231.48619042, 216.92842729, 272.46123649, 296.60026242,\n",
       "       272.12339472, 166.93212124, 278.85623938, 321.12761735,\n",
       "       214.34561999, 184.74942091, 250.26132632, 277.19952076,\n",
       "       272.12339472, 367.53232471, 274.35807833, 182.97670131,\n",
       "       231.95023466, 344.7044928 , 323.50239864, 289.26488295,\n",
       "       406.1129086 , 229.97397866, 231.96528135, 326.6345234 ,\n",
       "       318.39334966, 329.3106483 , 300.43191599, 273.52426359,\n",
       "       441.18432255, 184.76786679, 321.12761735, 283.92534394,\n",
       "       119.96057985, 280.25985824, 167.53200488, 365.0362363 ,\n",
       "       254.8454928 , 191.53150467, 321.12761735, 170.79490352,\n",
       "       201.86136233, 262.93039852, 266.70301518, 194.50573182,\n",
       "       179.2934744 , 330.79526664, 319.39941498, 214.53186198,\n",
       "       202.90290039, 263.7512745 , 277.31881679, 602.30449527,\n",
       "       316.89232753, 237.70067374, 294.57509528, 160.95867572,\n",
       "       122.63194991, 223.51424942, 250.3653938 , 406.85168109,\n",
       "       192.97891116, 145.97452705, 261.25905312, 248.9002912 ,\n",
       "       333.39868645, 216.92842729, 209.32849027, 173.90218727,\n",
       "       271.74105163, 269.12720294, 189.17367834, 233.77038927,\n",
       "       226.13455042, 355.02805656, 346.06499849, 298.1372917 ,\n",
       "       273.22183739, 300.01179077, 214.08226763, 275.63905526,\n",
       "       253.38256026, 131.99882804, 250.26132632, 131.49076184,\n",
       "       209.59224892, 209.77665636, 228.86299073, 184.62140949,\n",
       "       272.7861479 , 252.76189155, 319.94929188, 243.39009314,\n",
       "       225.44852088, 251.63568227, 265.8349135 , 145.97452705,\n",
       "       390.02753176, 194.24965987, 265.75673734, 164.38424143,\n",
       "       346.29054521, 237.41241588, 406.85168109, 229.97397866,\n",
       "       146.33442314, 176.3049477 , 292.08591705, 340.54593732,\n",
       "       281.66987528, 200.0425234 , 265.32159004, 262.59119905,\n",
       "       277.44234524, 208.83084151, 221.94929407, 171.86640222,\n",
       "       250.3653938 , 247.09748059, 191.53779862, 248.46661163,\n",
       "       249.61006138, 188.26764418, 331.66629263, 284.23435948,\n",
       "       262.28260358, 296.89117388, 200.29979952, 183.80840207,\n",
       "       327.9472388 , 306.69333481, 345.38451105, 164.61311658,\n",
       "       279.15849684, 214.32373068, 266.322665  , 262.89297539,\n",
       "       177.09831254, 241.41258361, 287.09139034, 208.45409464,\n",
       "       226.0415619 , 217.85301929, 189.60538397, 404.30560602,\n",
       "       244.04441906, 177.35725272, 186.77192097, 342.17329186,\n",
       "       214.39252293, 198.01213675, 222.91596154, 304.99122674,\n",
       "       365.2841964 , 222.02497617, 265.86796244, 222.93730429,\n",
       "       231.20619351, 340.54635603, 340.54593732, 211.79516044,\n",
       "       154.82326976, 240.43908128, 286.9338893 , 283.03036948,\n",
       "       181.08475877, 292.69144803, 305.21128927, 294.5256195 ,\n",
       "       203.49255581, 253.8955316 , 198.91817092, 300.43191599,\n",
       "       252.06717018, 327.44322853, 297.30101992, 190.87749038,\n",
       "       439.71955717, 331.72871537, 286.70263787, 276.35757817,\n",
       "       345.38451105, 243.15838796, 325.42465262, 297.41206166,\n",
       "       211.98140243, 317.64583511, 261.35838282, 208.14930182,\n",
       "       298.1372917 , 272.84471509, 279.05739643, 363.67071747,\n",
       "       361.60157918, 275.38745243, 330.06396484, 177.35725272,\n",
       "       269.39457139, 377.76079863, 292.9028657 , 261.6927281 ,\n",
       "       178.44157087, 166.52736477, 225.54637509, 176.46508331,\n",
       "       281.10707604, 284.44219929, 190.28774653, 274.70280218,\n",
       "       231.48891839, 210.83538071, 192.97891116, 220.52437969,\n",
       "       253.97909127, 126.01400977, 273.75074926, 252.06717018,\n",
       "       361.49183786, 230.83765346, 286.76145424, 365.2841964 ,\n",
       "       173.90218727, 340.54635603, 278.7189245 , 281.65641786,\n",
       "       224.98867775, 177.35725272, 273.98301   , 187.39446174,\n",
       "       272.46123649, 127.15636451, 166.52736477, 258.09643955,\n",
       "       307.31636318, 194.06991806, 330.60941043, 191.83240443,\n",
       "       161.86470989, 284.33416713, 252.28841345, 256.66157373,\n",
       "       231.63690601, 318.39334966, 223.00007177, 205.31550097,\n",
       "       158.8376067 , 242.00492082, 149.12692947, 269.95865025,\n",
       "       244.11207997, 252.76189155, 250.26132632, 272.87277881,\n",
       "       259.23063518, 215.95590367, 412.13218067, 229.91926048,\n",
       "       238.60972438, 209.54913575, 236.92221255, 239.69504013,\n",
       "       256.23140991, 148.50162181, 333.76487649, 254.29726189,\n",
       "       185.9804282 , 292.31469037, 197.00173671, 303.31055826,\n",
       "       328.09517736, 271.97661341, 258.94270888, 187.29031358,\n",
       "       257.32953822, 274.14381208, 183.34162208, 222.26643922,\n",
       "       348.00832514, 297.63574022, 233.47344104, 332.32376395,\n",
       "       220.21914908, 348.10719643, 252.04772817, 252.76189155])"
      ]
     },
     "execution_count": 67,
     "metadata": {},
     "output_type": "execute_result"
    }
   ],
   "source": [
    "y_pred_test"
   ]
  },
  {
   "cell_type": "code",
   "execution_count": 72,
   "id": "7f645aa3-9670-4667-94eb-74e824e3212a",
   "metadata": {},
   "outputs": [
    {
     "name": "stdout",
     "output_type": "stream",
     "text": [
      "Residual sum of square: 181.031678 \n"
     ]
    }
   ],
   "source": [
    "#MSE \n",
    "print(\"Residual sum of square: %2f \" % np.mean((y_test - y_pred_test)**2))"
   ]
  },
  {
   "cell_type": "code",
   "execution_count": 73,
   "id": "df800b98-3bb1-4786-89f1-fc4d8e4584e8",
   "metadata": {},
   "outputs": [
    {
     "name": "stdout",
     "output_type": "stream",
     "text": [
      "R2 : 0.957945\n"
     ]
    }
   ],
   "source": [
    "#R2\n",
    "print(\"R2 : %2f\" %r2_score(y_test, y_pred_test))"
   ]
  },
  {
   "cell_type": "markdown",
   "id": "91d1229f-faea-4dca-9ce3-1d96e95a058b",
   "metadata": {},
   "source": [
    "On the basis of test data the model shows that , 95% of total variable can be explained by the dependent varibale..."
   ]
  }
 ],
 "metadata": {
  "kernelspec": {
   "display_name": "Python 3 (ipykernel)",
   "language": "python",
   "name": "python3"
  },
  "language_info": {
   "codemirror_mode": {
    "name": "ipython",
    "version": 3
   },
   "file_extension": ".py",
   "mimetype": "text/x-python",
   "name": "python",
   "nbconvert_exporter": "python",
   "pygments_lexer": "ipython3",
   "version": "3.11.6"
  }
 },
 "nbformat": 4,
 "nbformat_minor": 5
}
