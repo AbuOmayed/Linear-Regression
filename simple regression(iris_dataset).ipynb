{
 "cells": [
  {
   "cell_type": "code",
   "execution_count": 2,
   "id": "df4619fe-5193-472b-a3f2-41f6b2e3d26c",
   "metadata": {},
   "outputs": [],
   "source": [
    "#import necessary package\n",
    "import seaborn as sns\n",
    "import numpy as np\n",
    "import matplotlib.pyplot as plt"
   ]
  },
  {
   "cell_type": "code",
   "execution_count": 3,
   "id": "9a39e477-3f18-440c-aea5-2577d460d970",
   "metadata": {},
   "outputs": [],
   "source": [
    "#import iris dataset from seaborn\n",
    "iris = sns.load_dataset(\"iris\")"
   ]
  },
  {
   "cell_type": "code",
   "execution_count": 4,
   "id": "d89bb6b7-ab5e-413a-a455-938e76f2b15e",
   "metadata": {},
   "outputs": [
    {
     "data": {
      "text/html": [
       "<div>\n",
       "<style scoped>\n",
       "    .dataframe tbody tr th:only-of-type {\n",
       "        vertical-align: middle;\n",
       "    }\n",
       "\n",
       "    .dataframe tbody tr th {\n",
       "        vertical-align: top;\n",
       "    }\n",
       "\n",
       "    .dataframe thead th {\n",
       "        text-align: right;\n",
       "    }\n",
       "</style>\n",
       "<table border=\"1\" class=\"dataframe\">\n",
       "  <thead>\n",
       "    <tr style=\"text-align: right;\">\n",
       "      <th></th>\n",
       "      <th>sepal_length</th>\n",
       "      <th>sepal_width</th>\n",
       "      <th>petal_length</th>\n",
       "      <th>petal_width</th>\n",
       "      <th>species</th>\n",
       "    </tr>\n",
       "  </thead>\n",
       "  <tbody>\n",
       "    <tr>\n",
       "      <th>0</th>\n",
       "      <td>5.1</td>\n",
       "      <td>3.5</td>\n",
       "      <td>1.4</td>\n",
       "      <td>0.2</td>\n",
       "      <td>setosa</td>\n",
       "    </tr>\n",
       "    <tr>\n",
       "      <th>1</th>\n",
       "      <td>4.9</td>\n",
       "      <td>3.0</td>\n",
       "      <td>1.4</td>\n",
       "      <td>0.2</td>\n",
       "      <td>setosa</td>\n",
       "    </tr>\n",
       "    <tr>\n",
       "      <th>2</th>\n",
       "      <td>4.7</td>\n",
       "      <td>3.2</td>\n",
       "      <td>1.3</td>\n",
       "      <td>0.2</td>\n",
       "      <td>setosa</td>\n",
       "    </tr>\n",
       "    <tr>\n",
       "      <th>3</th>\n",
       "      <td>4.6</td>\n",
       "      <td>3.1</td>\n",
       "      <td>1.5</td>\n",
       "      <td>0.2</td>\n",
       "      <td>setosa</td>\n",
       "    </tr>\n",
       "    <tr>\n",
       "      <th>4</th>\n",
       "      <td>5.0</td>\n",
       "      <td>3.6</td>\n",
       "      <td>1.4</td>\n",
       "      <td>0.2</td>\n",
       "      <td>setosa</td>\n",
       "    </tr>\n",
       "  </tbody>\n",
       "</table>\n",
       "</div>"
      ],
      "text/plain": [
       "   sepal_length  sepal_width  petal_length  petal_width species\n",
       "0           5.1          3.5           1.4          0.2  setosa\n",
       "1           4.9          3.0           1.4          0.2  setosa\n",
       "2           4.7          3.2           1.3          0.2  setosa\n",
       "3           4.6          3.1           1.5          0.2  setosa\n",
       "4           5.0          3.6           1.4          0.2  setosa"
      ]
     },
     "execution_count": 4,
     "metadata": {},
     "output_type": "execute_result"
    }
   ],
   "source": [
    "iris.head()"
   ]
  },
  {
   "cell_type": "markdown",
   "id": "6d9c97f6-250e-4973-9d9b-26f1301248e2",
   "metadata": {},
   "source": [
    "<b>For simple linear regression we don't net all the variable ... we take petal_length as independent variable and petal_width as dependent variable.. </b>"
   ]
  },
  {
   "cell_type": "code",
   "execution_count": 5,
   "id": "bfd869dd-13be-42db-9b72-31143171abc1",
   "metadata": {},
   "outputs": [],
   "source": [
    "x = iris[\"petal_length\"]"
   ]
  },
  {
   "cell_type": "code",
   "execution_count": 6,
   "id": "71c64b08-00ee-4522-9c40-d24c1224c8c8",
   "metadata": {},
   "outputs": [],
   "source": [
    "y = iris[\"petal_width\"]"
   ]
  },
  {
   "cell_type": "markdown",
   "id": "7218441b-65d3-4865-ab39-b516ef9baa00",
   "metadata": {},
   "source": [
    "<b>First we see how corrletaion between between x and y</b>"
   ]
  },
  {
   "cell_type": "code",
   "execution_count": 7,
   "id": "f54c2f51-66db-4c7b-b56d-434a2c6ed200",
   "metadata": {},
   "outputs": [
    {
     "data": {
      "text/plain": [
       "Text(0, 0.5, 'petal width')"
      ]
     },
     "execution_count": 7,
     "metadata": {},
     "output_type": "execute_result"
    },
    {
     "data": {
      "image/png": "[encoded data removed]",
      "text/plain": [
       "<Figure size 640x480 with 1 Axes>"
      ]
     },
     "metadata": {},
     "output_type": "display_data"
    }
   ],
   "source": [
    "plt.scatter(x,y)\n",
    "plt.xlabel(\"petal length\")\n",
    "plt.ylabel(\"petal width\")"
   ]
  },
  {
   "cell_type": "markdown",
   "id": "1cf40a1b-e921-43ef-8018-40ab6de3224e",
   "metadata": {},
   "source": [
    "<b>Moving to any machine learning model we usulally split the dataset into training and test data...</b>"
   ]
  },
  {
   "cell_type": "code",
   "execution_count": 8,
   "id": "814107a6-d9c2-42f6-a876-2d9855786f65",
   "metadata": {},
   "outputs": [],
   "source": [
    "from sklearn.model_selection import train_test_split"
   ]
  },
  {
   "cell_type": "code",
   "execution_count": 9,
   "id": "c6f6de55-7911-49ac-9d35-174e2f8ce926",
   "metadata": {},
   "outputs": [],
   "source": [
    "x_train, x_test, y_train, y_test = train_test_split(x, y, test_size=0.6, random_state=123)"
   ]
  },
  {
   "cell_type": "code",
   "execution_count": 10,
   "id": "21fdd0d0-9809-4b98-a71b-e3ffe0a5688e",
   "metadata": {},
   "outputs": [
    {
     "data": {
      "text/plain": [
       "139    5.4\n",
       "30     1.6\n",
       "108    5.8\n",
       "15     1.5\n",
       "18     1.7\n",
       "77     5.0\n",
       "22     1.0\n",
       "10     1.5\n",
       "58     4.6\n",
       "107    6.3\n",
       "75     4.4\n",
       "64     3.6\n",
       "69     3.9\n",
       "3      1.5\n",
       "40     1.3\n",
       "76     4.8\n",
       "134    5.6\n",
       "34     1.5\n",
       "27     1.5\n",
       "94     4.2\n",
       "85     4.5\n",
       "97     4.3\n",
       "102    5.9\n",
       "52     4.9\n",
       "92     4.0\n",
       "99     4.1\n",
       "105    6.6\n",
       "7      1.5\n",
       "48     1.5\n",
       "61     4.2\n",
       "120    5.7\n",
       "137    5.5\n",
       "125    6.0\n",
       "147    5.2\n",
       "39     1.5\n",
       "84     4.5\n",
       "2      1.3\n",
       "67     4.1\n",
       "55     4.5\n",
       "49     1.4\n",
       "68     4.5\n",
       "140    5.6\n",
       "78     4.5\n",
       "144    5.7\n",
       "111    5.3\n",
       "32     1.5\n",
       "73     4.7\n",
       "47     1.4\n",
       "148    5.4\n",
       "113    5.0\n",
       "96     4.2\n",
       "57     3.3\n",
       "123    4.9\n",
       "106    4.5\n",
       "83     5.1\n",
       "17     1.4\n",
       "98     3.0\n",
       "66     4.5\n",
       "126    4.8\n",
       "109    6.1\n",
       "Name: petal_length, dtype: float64"
      ]
     },
     "execution_count": 10,
     "metadata": {},
     "output_type": "execute_result"
    }
   ],
   "source": [
    "x_train"
   ]
  },
  {
   "cell_type": "markdown",
   "id": "e75609e3-fa8a-4aec-8c86-e33c577269fa",
   "metadata": {},
   "source": [
    "<b>In sklearn they take two dimensional array data ... so we need to convert it into two dimensional array data..</b>"
   ]
  },
  {
   "cell_type": "code",
   "execution_count": 11,
   "id": "96dd5880-d160-4f91-822a-7e6e0a52bda8",
   "metadata": {},
   "outputs": [],
   "source": [
    "x_train = np.array(x_train).reshape(-1,1)"
   ]
  },
  {
   "cell_type": "code",
   "execution_count": 12,
   "id": "7168cd31-ad87-4992-92af-2b1794e4aaa7",
   "metadata": {},
   "outputs": [],
   "source": [
    "x_test = np.array(x_test).reshape(-1,1)"
   ]
  },
  {
   "cell_type": "markdown",
   "id": "2828730a-0991-4a87-8318-116879f60fd0",
   "metadata": {},
   "source": [
    "<b>Fit the regression model </b>"
   ]
  },
  {
   "cell_type": "code",
   "execution_count": 13,
   "id": "7066eadc-d5b2-4dd9-a7b8-470b87874e9b",
   "metadata": {},
   "outputs": [],
   "source": [
    "from sklearn.linear_model import LinearRegression"
   ]
  },
  {
   "cell_type": "code",
   "execution_count": 14,
   "id": "64da46b9-3065-40bf-89c5-d1237b03d9d0",
   "metadata": {},
   "outputs": [],
   "source": [
    "lr = LinearRegression()"
   ]
  },
  {
   "cell_type": "code",
   "execution_count": 15,
   "id": "42132b3c-5760-4e99-93df-d12645ae9250",
   "metadata": {},
   "outputs": [
    {
     "data": {
      "text/html": [
       "<style>#sk-container-id-1 {color: black;}#sk-container-id-1 pre{padding: 0;}#sk-container-id-1 div.sk-toggleable {background-color: white;}#sk-container-id-1 label.sk-toggleable__label {cursor: pointer;display: block;width: 100%;margin-bottom: 0;padding: 0.3em;box-sizing: border-box;text-align: center;}#sk-container-id-1 label.sk-toggleable__label-arrow:before {content: \"▸\";float: left;margin-right: 0.25em;color: #696969;}#sk-container-id-1 label.sk-toggleable__label-arrow:hover:before {color: black;}#sk-container-id-1 div.sk-estimator:hover label.sk-toggleable__label-arrow:before {color: black;}#sk-container-id-1 div.sk-toggleable__content {max-height: 0;max-width: 0;overflow: hidden;text-align: left;background-color: #f0f8ff;}#sk-container-id-1 div.sk-toggleable__content pre {margin: 0.2em;color: black;border-radius: 0.25em;background-color: #f0f8ff;}#sk-container-id-1 input.sk-toggleable__control:checked~div.sk-toggleable__content {max-height: 200px;max-width: 100%;overflow: auto;}#sk-container-id-1 input.sk-toggleable__control:checked~label.sk-toggleable__label-arrow:before {content: \"▾\";}#sk-container-id-1 div.sk-estimator input.sk-toggleable__control:checked~label.sk-toggleable__label {background-color: #d4ebff;}#sk-container-id-1 div.sk-label input.sk-toggleable__control:checked~label.sk-toggleable__label {background-color: #d4ebff;}#sk-container-id-1 input.sk-hidden--visually {border: 0;clip: rect(1px 1px 1px 1px);clip: rect(1px, 1px, 1px, 1px);height: 1px;margin: -1px;overflow: hidden;padding: 0;position: absolute;width: 1px;}#sk-container-id-1 div.sk-estimator {font-family: monospace;background-color: #f0f8ff;border: 1px dotted black;border-radius: 0.25em;box-sizing: border-box;margin-bottom: 0.5em;}#sk-container-id-1 div.sk-estimator:hover {background-color: #d4ebff;}#sk-container-id-1 div.sk-parallel-item::after {content: \"\";width: 100%;border-bottom: 1px solid gray;flex-grow: 1;}#sk-container-id-1 div.sk-label:hover label.sk-toggleable__label {background-color: #d4ebff;}#sk-container-id-1 div.sk-serial::before {content: \"\";position: absolute;border-left: 1px solid gray;box-sizing: border-box;top: 0;bottom: 0;left: 50%;z-index: 0;}#sk-container-id-1 div.sk-serial {display: flex;flex-direction: column;align-items: center;background-color: white;padding-right: 0.2em;padding-left: 0.2em;position: relative;}#sk-container-id-1 div.sk-item {position: relative;z-index: 1;}#sk-container-id-1 div.sk-parallel {display: flex;align-items: stretch;justify-content: center;background-color: white;position: relative;}#sk-container-id-1 div.sk-item::before, #sk-container-id-1 div.sk-parallel-item::before {content: \"\";position: absolute;border-left: 1px solid gray;box-sizing: border-box;top: 0;bottom: 0;left: 50%;z-index: -1;}#sk-container-id-1 div.sk-parallel-item {display: flex;flex-direction: column;z-index: 1;position: relative;background-color: white;}#sk-container-id-1 div.sk-parallel-item:first-child::after {align-self: flex-end;width: 50%;}#sk-container-id-1 div.sk-parallel-item:last-child::after {align-self: flex-start;width: 50%;}#sk-container-id-1 div.sk-parallel-item:only-child::after {width: 0;}#sk-container-id-1 div.sk-dashed-wrapped {border: 1px dashed gray;margin: 0 0.4em 0.5em 0.4em;box-sizing: border-box;padding-bottom: 0.4em;background-color: white;}#sk-container-id-1 div.sk-label label {font-family: monospace;font-weight: bold;display: inline-block;line-height: 1.2em;}#sk-container-id-1 div.sk-label-container {text-align: center;}#sk-container-id-1 div.sk-container {/* jupyter's `normalize.less` sets `[hidden] { display: none; }` but bootstrap.min.css set `[hidden] { display: none !important; }` so we also need the `!important` here to be able to override the default hidden behavior on the sphinx rendered scikit-learn.org. See: https://github.com/scikit-learn/scikit-learn/issues/21755 */display: inline-block !important;position: relative;}#sk-container-id-1 div.sk-text-repr-fallback {display: none;}</style><div id=\"sk-container-id-1\" class=\"sk-top-container\"><div class=\"sk-text-repr-fallback\"><pre>LinearRegression()</pre><b>In a Jupyter environment, please rerun this cell to show the HTML representation or trust the notebook. <br />On GitHub, the HTML representation is unable to render, please try loading this page with nbviewer.org.</b></div><div class=\"sk-container\" hidden><div class=\"sk-item\"><div class=\"sk-estimator sk-toggleable\"><input class=\"sk-toggleable__control sk-hidden--visually\" id=\"sk-estimator-id-1\" type=\"checkbox\" checked><label for=\"sk-estimator-id-1\" class=\"sk-toggleable__label sk-toggleable__label-arrow\">LinearRegression</label><div class=\"sk-toggleable__content\"><pre>LinearRegression()</pre></div></div></div></div></div>"
      ],
      "text/plain": [
       "LinearRegression()"
      ]
     },
     "execution_count": 15,
     "metadata": {},
     "output_type": "execute_result"
    }
   ],
   "source": [
    "lr.fit(x_train, y_train)"
   ]
  },
  {
   "cell_type": "markdown",
   "id": "0ab87d23-9d15-4d0c-a7b3-fe9917f489ec",
   "metadata": {},
   "source": [
    "<b>Find the intercept and coefficinet</b>"
   ]
  },
  {
   "cell_type": "code",
   "execution_count": 16,
   "id": "d8eb3c30-6b78-481c-b164-6ff99d565827",
   "metadata": {},
   "outputs": [],
   "source": [
    "c = lr.intercept_"
   ]
  },
  {
   "cell_type": "code",
   "execution_count": 17,
   "id": "235e4273-374b-4930-86da-01f37ffa048a",
   "metadata": {},
   "outputs": [],
   "source": [
    "m = lr.coef_"
   ]
  },
  {
   "cell_type": "markdown",
   "id": "64c81586-36f6-4188-ac56-f235b2c6346e",
   "metadata": {},
   "source": [
    "<b>Regression model manually</b>"
   ]
  },
  {
   "cell_type": "code",
   "execution_count": 18,
   "id": "e14e0c36-ff06-4fe7-bc15-f44b0b29bf0b",
   "metadata": {},
   "outputs": [],
   "source": [
    "y_pred = m* x_train + c"
   ]
  },
  {
   "cell_type": "code",
   "execution_count": 19,
   "id": "d3946ab6-e2b0-4f40-9653-a69ad328fc35",
   "metadata": {},
   "outputs": [
    {
     "data": {
      "text/plain": [
       "array([1.86329006, 0.29228528, 2.02865898, 0.25094305, 0.33362751,\n",
       "       1.69792114, 0.04423189, 0.25094305, 1.53255221, 2.23537014,\n",
       "       1.44986775, 1.1191299 , 1.24315659, 0.25094305, 0.16825859,\n",
       "       1.61523667, 1.94597452, 0.25094305, 0.25094305, 1.36718329,\n",
       "       1.49120998, 1.40852552, 2.07000122, 1.6565789 , 1.28449882,\n",
       "       1.32584106, 2.35939683, 0.25094305, 0.25094305, 1.36718329,\n",
       "       1.98731675, 1.90463229, 2.11134345, 1.7806056 , 0.25094305,\n",
       "       1.49120998, 0.16825859, 1.32584106, 1.49120998, 0.20960082,\n",
       "       1.49120998, 1.94597452, 1.49120998, 1.98731675, 1.82194783,\n",
       "       0.25094305, 1.57389444, 0.20960082, 1.86329006, 1.69792114,\n",
       "       1.36718329, 0.99510321, 1.6565789 , 1.49120998, 1.73926337,\n",
       "       0.20960082, 0.87107651, 1.49120998, 1.61523667, 2.15268568])"
      ]
     },
     "execution_count": 19,
     "metadata": {},
     "output_type": "execute_result"
    }
   ],
   "source": [
    "y_pred.flatten()"
   ]
  },
  {
   "cell_type": "markdown",
   "id": "a3697af9-a57b-465e-a900-7218f007e3e7",
   "metadata": {},
   "source": [
    "<b> Regression model by prdict formula </b>"
   ]
  },
  {
   "cell_type": "code",
   "execution_count": 20,
   "id": "34684494-ff0f-4916-8a37-415a33da79e9",
   "metadata": {},
   "outputs": [],
   "source": [
    "y_pred1 = lr.predict(x_train)"
   ]
  },
  {
   "cell_type": "code",
   "execution_count": 21,
   "id": "a31c8b93-c923-421f-9d73-42d1c720d682",
   "metadata": {},
   "outputs": [
    {
     "data": {
      "text/plain": [
       "array([1.86329006, 0.29228528, 2.02865898, 0.25094305, 0.33362751,\n",
       "       1.69792114, 0.04423189, 0.25094305, 1.53255221, 2.23537014,\n",
       "       1.44986775, 1.1191299 , 1.24315659, 0.25094305, 0.16825859,\n",
       "       1.61523667, 1.94597452, 0.25094305, 0.25094305, 1.36718329,\n",
       "       1.49120998, 1.40852552, 2.07000122, 1.6565789 , 1.28449882,\n",
       "       1.32584106, 2.35939683, 0.25094305, 0.25094305, 1.36718329,\n",
       "       1.98731675, 1.90463229, 2.11134345, 1.7806056 , 0.25094305,\n",
       "       1.49120998, 0.16825859, 1.32584106, 1.49120998, 0.20960082,\n",
       "       1.49120998, 1.94597452, 1.49120998, 1.98731675, 1.82194783,\n",
       "       0.25094305, 1.57389444, 0.20960082, 1.86329006, 1.69792114,\n",
       "       1.36718329, 0.99510321, 1.6565789 , 1.49120998, 1.73926337,\n",
       "       0.20960082, 0.87107651, 1.49120998, 1.61523667, 2.15268568])"
      ]
     },
     "execution_count": 21,
     "metadata": {},
     "output_type": "execute_result"
    }
   ],
   "source": [
    "y_pred1.flatten()"
   ]
  },
  {
   "cell_type": "markdown",
   "id": "c66dfc67-03c3-4e5b-846b-9cea8edd5ce6",
   "metadata": {},
   "source": [
    "<b>Check the best fit line</b>"
   ]
  },
  {
   "cell_type": "code",
   "execution_count": 22,
   "id": "f93aa108-b64f-419d-83ab-8783c6c2dc59",
   "metadata": {},
   "outputs": [
    {
     "data": {
      "text/plain": [
       "Text(0, 0.5, 'Predict petal width')"
      ]
     },
     "execution_count": 22,
     "metadata": {},
     "output_type": "execute_result"
    },
    {
     "data": {
      "image/png": "[encoded data removed]",
      "text/plain": [
       "<Figure size 640x480 with 1 Axes>"
      ]
     },
     "metadata": {},
     "output_type": "display_data"
    }
   ],
   "source": [
    "plt.scatter(x_train, y_train)\n",
    "plt.plot(x_train, y_pred1)\n",
    "plt.xlabel(\"Petal length\")\n",
    "plt.ylabel(\"Predict petal width\")"
   ]
  },
  {
   "cell_type": "markdown",
   "id": "756ebd82-3c5e-44b0-919c-2359517d7136",
   "metadata": {},
   "source": [
    "<b>Let see how the model word out of sample data </b>"
   ]
  },
  {
   "cell_type": "code",
   "execution_count": 23,
   "id": "550371b5-3b42-4093-89b6-f8870ec409fe",
   "metadata": {},
   "outputs": [],
   "source": [
    "y_pred_outsample = lr.predict(x_test)"
   ]
  },
  {
   "cell_type": "code",
   "execution_count": 24,
   "id": "3144a80a-f57c-4734-a031-97fce2310cbe",
   "metadata": {},
   "outputs": [
    {
     "data": {
      "text/plain": [
       "array([1.6565789 , 1.90463229, 1.94597452, 1.32584106, 0.20960082,\n",
       "       1.61523667, 1.44986775, 0.16825859, 0.20960082, 1.44986775,\n",
       "       1.73926337, 0.20960082, 1.24315659, 1.90463229, 2.15268568,\n",
       "       2.02865898, 0.16825859, 0.08557412, 1.57389444, 0.20960082,\n",
       "       0.20960082, 1.73926337, 0.41631197, 1.6565789 , 0.29228528,\n",
       "       0.33362751, 0.25094305, 1.6565789 , 2.40073906, 0.20960082,\n",
       "       2.15268568, 1.69792114, 0.29228528, 0.20960082, 1.28449882,\n",
       "       0.99510321, 2.27671237, 0.33362751, 0.16825859, 1.24315659,\n",
       "       1.07778767, 0.12691635, 2.07000122, 1.7806056 , 1.73926337,\n",
       "       1.73926337, 1.94597452, 1.28449882, 0.25094305, 0.16825859,\n",
       "       1.73926337, 0.33362751, 0.25094305, 1.57389444, 1.53255221,\n",
       "       1.28449882, 1.07778767, 1.73926337, 1.44986775, 1.82194783,\n",
       "       0.16825859, 1.98731675, 1.36718329, 0.25094305, 0.29228528,\n",
       "       1.94597452, 1.40852552, 2.40073906, 2.48342353, 0.41631197,\n",
       "       1.49120998, 1.16047213, 1.73926337, 0.20960082, 2.02865898,\n",
       "       1.57389444, 1.57389444, 0.29228528, 1.94597452, 1.69792114,\n",
       "       0.29228528, 0.20960082, 1.28449882, 1.53255221, 2.11134345,\n",
       "       0.12691635, 0.20960082, 1.20181436, 0.29228528, 1.61523667])"
      ]
     },
     "execution_count": 24,
     "metadata": {},
     "output_type": "execute_result"
    }
   ],
   "source": [
    "y_pred_outsample.flatten()"
   ]
  },
  {
   "cell_type": "code",
   "execution_count": 25,
   "id": "0126465d-7c67-465c-a88e-d1e11dbd6de6",
   "metadata": {},
   "outputs": [
    {
     "data": {
      "text/plain": [
       "Text(0, 0.5, 'Predict petal width')"
      ]
     },
     "execution_count": 25,
     "metadata": {},
     "output_type": "execute_result"
    },
    {
     "data": {
      "image/png": "[encoded data removed]",
      "text/plain": [
       "<Figure size 640x480 with 1 Axes>"
      ]
     },
     "metadata": {},
     "output_type": "display_data"
    }
   ],
   "source": [
    "plt.scatter(x_test, y_test)\n",
    "plt.plot(x_test, y_pred_outsample)\n",
    "plt.xlabel(\"Petal length\")\n",
    "plt.ylabel(\"Predict petal width\")"
   ]
  },
  {
   "cell_type": "markdown",
   "id": "c7377314-dfe3-4846-934c-fbc3dcaa920c",
   "metadata": {},
   "source": [
    "<b>Find MSE</b>"
   ]
  },
  {
   "cell_type": "code",
   "execution_count": 26,
   "id": "68982202-e5ac-4ed0-a1fb-8d16ba60f865",
   "metadata": {},
   "outputs": [
    {
     "name": "stdout",
     "output_type": "stream",
     "text": [
      "Residual sum of square (MSE) 0.000615:\n"
     ]
    }
   ],
   "source": [
    "print(\"Residual sum of square (MSE) %2f:\" % np.mean(y_test - y_pred_outsample)**2)"
   ]
  },
  {
   "cell_type": "markdown",
   "id": "c72e6ab8-df8d-4c7b-9fbf-923c6502cfc7",
   "metadata": {},
   "source": [
    "We see that MSE is smaller .. so we say that the model fit well..."
   ]
  },
  {
   "cell_type": "markdown",
   "id": "fdc3eaf0-900a-4bfd-a470-1664af9a547d",
   "metadata": {},
   "source": [
    "<b>Find R2 value</b>"
   ]
  },
  {
   "cell_type": "code",
   "execution_count": 30,
   "id": "fd3f24b6-446f-4910-8b89-9e5c82a27a93",
   "metadata": {},
   "outputs": [
    {
     "name": "stdout",
     "output_type": "stream",
     "text": [
      "R2 score 0.932065:\n"
     ]
    }
   ],
   "source": [
    "from sklearn.metrics import r2_score\n",
    "print(\"R2 score %2f:\" % r2_score(y_test, y_pred_outsample))"
   ]
  },
  {
   "cell_type": "markdown",
   "id": "2315d344-e420-4b8f-a53a-fbfd336c0102",
   "metadata": {},
   "source": [
    "Interpretation: <br>\n",
    "93% of the variance in petal length scores is predicted by their petal width<br>\n",
    "7% of the variance in petal length scores is unexplained by the model<br>"
   ]
  },
  {
   "cell_type": "code",
   "execution_count": null,
   "id": "3af68891-5bfa-4705-a086-7d89ae405d9d",
   "metadata": {},
   "outputs": [],
   "source": []
  }
 ],
 "metadata": {
  "kernelspec": {
   "display_name": "Python 3 (ipykernel)",
   "language": "python",
   "name": "python3"
  },
  "language_info": {
   "codemirror_mode": {
    "name": "ipython",
    "version": 3
   },
   "file_extension": ".py",
   "mimetype": "text/x-python",
   "name": "python",
   "nbconvert_exporter": "python",
   "pygments_lexer": "ipython3",
   "version": "3.11.6"
  }
 },
 "nbformat": 4,
 "nbformat_minor": 5
}
